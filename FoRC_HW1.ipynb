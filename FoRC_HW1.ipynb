{
  "nbformat": 4,
  "nbformat_minor": 0,
  "metadata": {
    "colab": {
      "name": "FoRC_HW1.ipynb",
      "provenance": [],
      "collapsed_sections": [],
      "include_colab_link": true
    },
    "kernelspec": {
      "name": "python3",
      "display_name": "Python 3"
    }
  },
  "cells": [
    {
      "cell_type": "markdown",
      "metadata": {
        "id": "view-in-github",
        "colab_type": "text"
      },
      "source": [
        "<a href=\"https://colab.research.google.com/github/AB-22/Projects/blob/master/FoRC_HW1.ipynb\" target=\"_parent\"><img src=\"https://colab.research.google.com/assets/colab-badge.svg\" alt=\"Open In Colab\"/></a>"
      ]
    },
    {
      "cell_type": "markdown",
      "metadata": {
        "id": "k1tejFp5LN5M"
      },
      "source": [
        "# **Home Assignment 1**\n",
        "\n",
        "---\n",
        "\n",
        "## **By Amer Al Badr**\n",
        "[telegram](https://t.me/amer_albadr) and email a.albadr@innopolis.university \n",
        "## **Exercise One**\n",
        "At first, we write the folowing equations:\n",
        "\n",
        "> \\begin{equation}\n",
        "\\begin{cases}\n",
        "\\dot{\\theta} = \\dot{\\theta}\\\\  \n",
        " \\ddot{\\theta} = K_m i/J - b \\dot{\\theta} /J\\\\ \n",
        "  \\dot{i} =- R i/L - K_e\\dot{\\theta}/L+V/L \\\\ \n",
        "\\end{cases}\n",
        "\\end{equation}\n",
        "choose state as $\\mathbf{x}=[\\theta, \\dot{\\theta}, i]^T$ control as $u = V$ and output as $y = \\theta$\n",
        "\n",
        "As a result, we can rewrite the previous equations represtented in state space as follows:\n",
        " \\begin{equation}\n",
        " \\begin{cases}\n",
        "\\mathbf{\\dot{x}}=\\boldsymbol{A}.\\mathbf{x}+\\boldsymbol{B}.\\mathbf{u} \\\\ \n",
        "\\mathbf{y}=\\boldsymbol{C}.\\mathbf{x}\n",
        "\\end{cases}\n",
        "\\end{equation}\n",
        ">Where: \n",
        "*  \\begin{equation}\n",
        "\\boldsymbol{A} = \n",
        "\\begin{bmatrix}\n",
        "0 & 1 &0  \\\\\n",
        "0& -b/J & K_m/J \\\\\n",
        "0 & -K_e/L & -R/L\n",
        "\\end{bmatrix} \n",
        "\\end{equation}\n",
        ">\n",
        "\\begin{equation}\n",
        "\\boldsymbol{B} = \n",
        "\\begin{bmatrix}\n",
        "0  \\\\\n",
        "0 \\\\\n",
        "1/L\n",
        "\\end{bmatrix} \n",
        "\\end{equation}\n",
        ">\n",
        "\\begin{equation}\n",
        "\\boldsymbol{C} = \n",
        "\\begin{bmatrix}\n",
        "1 & 0 &0\n",
        "\\end{bmatrix} \n",
        "\\end{equation}\n",
        "\n",
        "\n",
        "\n"
      ]
    },
    {
      "cell_type": "code",
      "metadata": {
        "id": "EJElpPvWN_qH"
      },
      "source": [
        "import numpy as np \n",
        "\n",
        "Km=1\n",
        "b=0.1\n",
        "J=0.01\n",
        "Ke=10\n",
        "R=50\n",
        "L=0.01\n",
        "\n",
        "A = [[0,1,0],\n",
        "     [0,-b/J, Km/J],\n",
        "     [0,-Ke/L,-R/L]]\n",
        "\n",
        "B= [[0],\n",
        "    [0],\n",
        "    [1/L]]\n",
        "\n",
        "def dcm_ode(x,u, t,A,B):\n",
        "    dx = np.dot(A,x)+ np.dot(B,u)\n",
        "    return dx\n"
      ],
      "execution_count": 1,
      "outputs": []
    },
    {
      "cell_type": "markdown",
      "metadata": {
        "id": "sjX7EeFqSQrE"
      },
      "source": [
        "## **Exercise Two**\n",
        "### **Nonlinear case: Cart Pole System**\n",
        "Let us consider the following cart pole system: \n",
        "\\begin{equation}\n",
        "\\begin{cases} \n",
        "\\left(M+m\\right){\\ddot {x}}-m L \\ddot{\\theta} \\cos \\theta +m L \\dot{\\theta }^{2}\\sin \\theta = u \\\\\n",
        "L \\ddot{\\theta}- g\\sin \\theta =\\ddot{x} \\cos \\theta  \\\\\n",
        "\\end{cases}\n",
        "\\end{equation}\n",
        "\\\n",
        "Let us assume that the state vector is $\\mathbf{x}=[\\theta, \\dot{\\theta}, x, \\dot{x}]^T$\n",
        "\n",
        "Now, we rewrite equation of cart pole system in state space form with state $\\mathbf{x}$ as follows:\n",
        "> \\begin{equation}\n",
        "\\dot{\\mathbf{x}} = \n",
        "\\begin{bmatrix}\n",
        "\\dot{\\theta} \\\\\n",
        "\\ddot{\\theta} \\\\\n",
        "\\dot{x} \\\\\n",
        "\\ddot{x}\n",
        "\\end{bmatrix} \n",
        "=\n",
        "\\begin{bmatrix}\n",
        "\\dot{\\theta} \\\\\n",
        "\\frac{g}{L}\\sin \\theta + \\frac{m \\sin \\theta \\cos \\theta (g\\cos \\theta -L \\dot{\\theta}^2)}{L(M+m \\sin^2 \\theta)} + \\frac{\\cos \\theta}{L(M+m \\sin^2 \\theta)}u \\\\\n",
        "\\dot{x} \\\\\n",
        "\\frac{m \\sin \\theta (g\\cos \\theta -L \\dot{\\theta}^2)}{M+m \\sin^2 \\theta}+ \\frac{1}{M+m \\sin^2 \\theta} u\n",
        "\\end{bmatrix} \n",
        "\\end{equation} "
      ]
    },
    {
      "cell_type": "code",
      "metadata": {
        "id": "Nh07z-E3TQ9P"
      },
      "source": [
        "from math import sin as sin, cos as cos\n",
        "def cart_ode(X, t, system_params):\n",
        "    m = system_params['m']\n",
        "    L = system_params['L']\n",
        "    M = system_params['M']\n",
        "    g = system_params['g']\n",
        "\n",
        "    theta, dtheta, x, dx = X[0],X[1],X[2],X[3] # Define theta, dtheta,x,dx to be frist, second, third and fourth components of state\n",
        "\n",
        "    # Control\n",
        "    u = 0\n",
        "\n",
        "    # State variables\n",
        "    ddtheta = (g/L)*sin(theta)+(m*sin(theta)*cos(theta)*(g*cos(theta)-L*dtheta*dtheta)+u*cos(theta))/(L*(M+m*sin(theta)*sin(theta)))\n",
        "    ddx=(m*sin(theta)*(g*cos(theta)-L*dtheta*dtheta)+u)/(M+m*sin(theta)*sin(theta))\n",
        "    Xdot = dtheta, ddtheta, dx, ddx # concatenate dtheta,ddtheta , dx and ddx to the state derevitive Xdot\n",
        "\n",
        "    return Xdot\n"
      ],
      "execution_count": 2,
      "outputs": []
    }
  ]
}